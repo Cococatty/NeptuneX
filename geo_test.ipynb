{
 "cells": [
  {
   "cell_type": "code",
   "execution_count": 1,
   "metadata": {},
   "outputs": [],
   "source": [
    "from nltk.chunk import ChunkParserI \n",
    "from nltk.chunk.util import conlltags2tree \n",
    "from nltk.corpus import gazetteers \n",
    "\n",
    "class LocationChunker(ChunkParserI): \n",
    "\tdef __init__(self): \n",
    "\t\tself.locations = set(gazetteers.words()) \n",
    "\t\tself.lookahead = 0\n",
    "\t\tfor loc in self.locations: \n",
    "\t\t\tnwords = loc.count(' ') \n",
    "\t\tif nwords > self.lookahead: \n",
    "\t\t\tself.lookahead = nwords \n"
   ]
  },
  {
   "cell_type": "code",
   "execution_count": null,
   "metadata": {},
   "outputs": [],
   "source": []
  },
  {
   "cell_type": "code",
   "execution_count": 5,
   "metadata": {
    "tags": []
   },
   "outputs": [
    {
     "output_type": "stream",
     "name": "stdout",
     "text": "[]\n"
    }
   ],
   "source": [
    "from geotext import GeoText\n",
    "\n",
    "places = GeoText(\"Christchurch New Zealand WBC ATM\")\n",
    "print(places.cities)"
   ]
  },
  {
   "cell_type": "code",
   "execution_count": 6,
   "metadata": {},
   "outputs": [
    {
     "output_type": "execute_result",
     "data": {
      "text/plain": "[('Berlin', 0, 6),\n ('Berlin', 24, 30),\n ('New York', 49, 57),\n ('Christchurch', 80, 92),\n ('New Zealand', 93, 104)]"
     },
     "metadata": {},
     "execution_count": 6
    }
   ],
   "source": [
    "from flashtext import KeywordProcessor\n",
    "\n",
    "lookup = ['Berlin', 'Hamburg', 'London', 'New York', 'New Zealand', 'Christchurch']\n",
    "input_text = \"Berlin is a great city. Berlin is not as nice as New York, but will do for now. Christchurch New Zealand ATM WBC\"\n",
    "\n",
    "processor = KeywordProcessor(case_sensitive=True)\n",
    "processor.add_keywords_from_list(lookup)\n",
    "processor.extract_keywords(input_text, span_info=True)\n",
    "\n"
   ]
  },
  {
   "cell_type": "code",
   "execution_count": 8,
   "metadata": {
    "tags": []
   },
   "outputs": [
    {
     "output_type": "stream",
     "name": "stderr",
     "text": "2020-07-04 00:42:59.663 | DEBUG    | flashgeotext.lookup:add:194 - cities added to pool\n2020-07-04 00:42:59.684 | DEBUG    | flashgeotext.lookup:add:194 - countries added to pool\n2020-07-04 00:42:59.692 | DEBUG    | flashgeotext.lookup:_add_demo_data:225 - demo data loaded for: ['cities', 'countries']\n"
    },
    {
     "output_type": "execute_result",
     "data": {
      "text/plain": "{'cities': {'Berlin': {'count': 2, 'span_info': [(0, 6), (24, 30)]},\n  'New York City': {'count': 1, 'span_info': [(49, 57)]},\n  'Christchurch': {'count': 1, 'span_info': [(80, 92)]}},\n 'countries': {'New Zealand': {'count': 1, 'span_info': [(93, 104)]}}}"
     },
     "metadata": {},
     "execution_count": 8
    }
   ],
   "source": [
    "from flashgeotext.geotext import GeoText\n",
    "\n",
    "geotext = GeoText(use_demo_data=True)\n",
    "\n",
    "input_text = \"Berlin is a great city. Berlin is not as nice as New York, but will do for now. Christchurch New Zealand ATM WBC\"\n",
    "# '''Shanghai. The Chinese Ministry of Finance in Shanghai said that China plans\n",
    "#                 to cut tariffs on $75 billion worth of goods that the country\n",
    "#                 imports from the US. Washington welcomes the decision.'''\n",
    "\n",
    "geotext.extract(input_text=input_text)\n",
    "# , span_info=True"
   ]
  },
  {
   "cell_type": "code",
   "execution_count": 31,
   "metadata": {},
   "outputs": [],
   "source": [
    "input_text = \"Christchurch New Zealand ATM WBC\"\n",
    "geo_result = geotext.extract(input_text=input_text)\n",
    "keys_city = list(geo_result.get('cities').keys())\n",
    "keys_country = list(geo_result.get('countries').keys())\n",
    "# , span_info=True"
   ]
  },
  {
   "cell_type": "code",
   "execution_count": 32,
   "metadata": {},
   "outputs": [
    {
     "output_type": "execute_result",
     "data": {
      "text/plain": "list"
     },
     "metadata": {},
     "execution_count": 32
    }
   ],
   "source": [
    "type(keys_country)"
   ]
  },
  {
   "cell_type": "code",
   "execution_count": 35,
   "metadata": {
    "tags": []
   },
   "outputs": [
    {
     "output_type": "stream",
     "name": "stdout",
     "text": "['New Zealand']\n"
    }
   ],
   "source": [
    "print(keys_country)"
   ]
  },
  {
   "cell_type": "code",
   "execution_count": null,
   "metadata": {},
   "outputs": [],
   "source": []
  },
  {
   "cell_type": "code",
   "execution_count": null,
   "metadata": {},
   "outputs": [],
   "source": []
  }
 ],
 "metadata": {
  "language_info": {
   "codemirror_mode": {
    "name": "ipython",
    "version": 3
   },
   "file_extension": ".py",
   "mimetype": "text/x-python",
   "name": "python",
   "nbconvert_exporter": "python",
   "pygments_lexer": "ipython3",
   "version": "3.8.3-final"
  },
  "orig_nbformat": 2,
  "kernelspec": {
   "name": "python38332bit522d691a44644f5f97199e3e55dc0f02",
   "display_name": "Python 3.8.3 32-bit"
  }
 },
 "nbformat": 4,
 "nbformat_minor": 2
}