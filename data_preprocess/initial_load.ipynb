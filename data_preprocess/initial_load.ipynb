{
 "cells": [
  {
   "cell_type": "code",
   "execution_count": null,
   "metadata": {},
   "outputs": [],
   "source": [
    "# import os\n",
    "# import sys\n",
    "# import re\n",
    "# import glob\n",
    "\n",
    "# import numpy as np  \n",
    "# import pandas as pd\n",
    "\n",
    "# pd.set_option('display.max_colwidth', None)\n",
    "sys.path.append(os.getcwd)\n",
    "\n",
    "import init_load_pkgs\n",
    "import init_metadata"
   ]
  },
  {
   "cell_type": "code",
   "execution_count": null,
   "metadata": {},
   "outputs": [],
   "source": [
    "# sys.path.append(os.path.abspath('C:\\\\Projects\\\\NeptuneX\\\\'))\n",
    "sys.path.append(os.getcwd)\n",
    "\n",
    "import func_preprocess"
   ]
  },
  {
   "cell_type": "code",
   "execution_count": null,
   "metadata": {
    "tags": []
   },
   "outputs": [],
   "source": []
  },
  {
   "cell_type": "code",
   "execution_count": null,
   "metadata": {},
   "outputs": [],
   "source": [
    "\n",
    "load_file = glob.glob(file_path_data.format(file_key_CC,'*'))\n",
    "df_CC = pd.read_csv(load_file[0])\n",
    "\n",
    "load_file = glob.glob(file_path_data.format(file_key_daily,'*'))\n",
    "df_daily = pd.read_csv(load_file[0])\n",
    "# load_file\n"
   ]
  },
  {
   "cell_type": "code",
   "execution_count": null,
   "metadata": {},
   "outputs": [],
   "source": [
    "df_CC[0:5]"
   ]
  },
  {
   "cell_type": "code",
   "execution_count": null,
   "metadata": {},
   "outputs": [],
   "source": [
    "df_daily[0:5]"
   ]
  },
  {
   "cell_type": "markdown",
   "metadata": {},
   "source": [
    "## Basic field value manipulation"
   ]
  },
  {
   "cell_type": "code",
   "execution_count": null,
   "metadata": {},
   "outputs": [],
   "source": [
    "# Assign Unique ID\n",
    "df_daily['df_id'] = df_daily.index\n",
    "df_CC['df_id'] = df_CC.index\n",
    "\n",
    "# set acct type\n",
    "df_daily['trans_acct'] = 'Daily'\n",
    "df_CC['trans_acct'] = 'CC'\n",
    "\n",
    "# rename fields\n",
    "df_daily = df_daily.rename(columns={'Date':'trans_date', 'Amount':'trans_amount', 'Description':'trans_type', 'Particulars':'analysis_code'})\n",
    "\n",
    "df_CC = df_CC.rename(columns={'Transaction Date':'trans_date', 'Amount':'trans_amount', \n",
    "'Other Party':'other_party', 'Credit Plan Name':'trans_type', 'Analysis Code':'analysis_code', 'City':'foreign_city','Country Code':'foreign_country'})\n",
    "\n",
    "df_CC.columns = df_CC.columns.str.replace(' ', '_')\n",
    "df_daily.columns = df_daily.columns.str.replace(' ', '_')\n"
   ]
  },
  {
   "cell_type": "code",
   "execution_count": null,
   "metadata": {},
   "outputs": [],
   "source": [
    "df_CC.columns"
   ]
  },
  {
   "cell_type": "markdown",
   "metadata": {},
   "source": [
    "## NLP field value manipulation"
   ]
  },
  {
   "cell_type": "code",
   "execution_count": null,
   "metadata": {
    "tags": []
   },
   "outputs": [],
   "source": [
    "## CC\n",
    "# foreign_amount\tForeign Details\n",
    "# foreign_fee\tForeign Details\n",
    "# trans_merchant\tOther Party\n",
    "# trans_city\tOther Party\n",
    "# trans_country\tOther Party\n",
    "\n",
    "\n",
    "# df_CC.head()\n",
    "# foreign_amount\tForeign Details\n",
    "# df_CC.filter(like = '155', axis=0).head()\n",
    "col_foreign_details = df_CC[df_CC.Foreign_Details.notnull()]['Foreign_Details']\n",
    "print(col_foreign_details)\n",
    "col_foreign_details.to_csv('foreign_detils_col.csv', columns=['id', 'item'])\n",
    "# "
   ]
  },
  {
   "cell_type": "code",
   "execution_count": null,
   "metadata": {},
   "outputs": [],
   "source": [
    "type(col_foreign_details)"
   ]
  },
  {
   "cell_type": "code",
   "execution_count": null,
   "metadata": {},
   "outputs": [],
   "source": []
  },
  {
   "cell_type": "code",
   "execution_count": null,
   "metadata": {},
   "outputs": [],
   "source": [
    "# nlp()\n",
    "\n",
    "# col_foreign_details"
   ]
  },
  {
   "cell_type": "code",
   "execution_count": null,
   "metadata": {},
   "outputs": [],
   "source": []
  },
  {
   "cell_type": "code",
   "execution_count": null,
   "metadata": {},
   "outputs": [],
   "source": [
    "# Daily\n",
    "# trans_time\tReference\n",
    "# trans_merchant\tOther Party\n",
    "# trans_city\tOther Party\n",
    "# trans_country\tOther Party\n"
   ]
  },
  {
   "cell_type": "code",
   "execution_count": null,
   "metadata": {},
   "outputs": [],
   "source": []
  },
  {
   "cell_type": "code",
   "execution_count": null,
   "metadata": {},
   "outputs": [],
   "source": []
  },
  {
   "cell_type": "markdown",
   "metadata": {},
   "source": [
    "# Randomize values"
   ]
  },
  {
   "cell_type": "code",
   "execution_count": null,
   "metadata": {},
   "outputs": [],
   "source": [
    "list_item_random = ['Salary', 'Loan', 'Rent', 'PhoneBill', 'InternetBill']\n",
    "dict_item_random = {}\n",
    "head_row = 'item, rand_perc'\n",
    "\n",
    "for i in list_item_random:\n",
    "    rand_perc = np.random.uniform(0.5, 2)\n",
    "    dict_item_random[i] = rand_perc\n",
    "\n",
    "dict_item_random\n",
    "\n",
    "func_preprocess.write_dict_csv(\n",
    "    data_dict=dict_item_random, data_header=head_row, file_name='meta_randomization'\n",
    "    )\n"
   ]
  },
  {
   "cell_type": "markdown",
   "metadata": {
    "tags": []
   },
   "source": [
    "# Remove sensitive information\n",
    "## Names"
   ]
  },
  {
   "cell_type": "code",
   "execution_count": null,
   "metadata": {},
   "outputs": [],
   "source": [
    "list_sensitive_words = ['Carina', 'Zheng']"
   ]
  },
  {
   "cell_type": "markdown",
   "metadata": {},
   "source": [
    "## Geospatial (Address, Location) "
   ]
  },
  {
   "cell_type": "code",
   "execution_count": null,
   "metadata": {},
   "outputs": [],
   "source": []
  },
  {
   "cell_type": "markdown",
   "metadata": {},
   "source": [
    "# Inspecting, Debugging"
   ]
  },
  {
   "cell_type": "code",
   "execution_count": null,
   "metadata": {
    "tags": []
   },
   "outputs": [],
   "source": [
    "import inspect\n",
    "lines = inspect.getsource(func_preprocess.write_dict_csv)\n",
    "print(lines)"
   ]
  },
  {
   "cell_type": "code",
   "execution_count": null,
   "metadata": {
    "tags": []
   },
   "outputs": [],
   "source": []
  },
  {
   "cell_type": "markdown",
   "metadata": {},
   "source": [
    "# Reloading"
   ]
  },
  {
   "cell_type": "code",
   "execution_count": null,
   "metadata": {},
   "outputs": [],
   "source": [
    "# sys.path.append(os.path.abspath('C:\\\\Projects\\\\NeptuneX\\\\'))\n",
    "sys.path.append(os.getcwd)\n",
    "from importlib import reload  \n",
    "import func_preprocess\n",
    "\n",
    "func_preprocess = reload(func_preprocess)\n"
   ]
  }
 ],
 "metadata": {
  "language_info": {
   "codemirror_mode": {
    "name": "ipython",
    "version": 3
   },
   "file_extension": ".py",
   "mimetype": "text/x-python",
   "name": "python",
   "nbconvert_exporter": "python",
   "pygments_lexer": "ipython3",
   "version": "3.8.3-final"
  },
  "orig_nbformat": 2,
  "kernelspec": {
   "name": "python38332bit522d691a44644f5f97199e3e55dc0f02",
   "display_name": "Python 3.8.3 32-bit"
  }
 },
 "nbformat": 4,
 "nbformat_minor": 2
}