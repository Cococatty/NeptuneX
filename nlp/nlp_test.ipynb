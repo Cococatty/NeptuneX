{
 "cells": [
  {
   "cell_type": "code",
   "execution_count": 3,
   "metadata": {},
   "outputs": [],
   "source": [
    "import os\n",
    "import sys\n",
    "import re\n",
    "import glob\n",
    "\n",
    "import numpy as np  \n",
    "import pandas as pd\n",
    "\n",
    "pd.set_option('display.max_colwidth', None)"
   ]
  },
  {
   "cell_type": "code",
   "execution_count": 10,
   "metadata": {
    "tags": []
   },
   "outputs": [
    {
     "output_type": "stream",
     "name": "stderr",
     "text": "[nltk_data] Downloading package punkt to\n[nltk_data]     C:\\Users\\carin\\AppData\\Roaming\\nltk_data...\n[nltk_data]   Package punkt is already up-to-date!\n[nltk_data] Downloading package stopwords to\n[nltk_data]     C:\\Users\\carin\\AppData\\Roaming\\nltk_data...\n[nltk_data]   Unzipping corpora\\stopwords.zip.\n[nltk_data] Downloading package wordnet to\n[nltk_data]     C:\\Users\\carin\\AppData\\Roaming\\nltk_data...\n[nltk_data]   Unzipping corpora\\wordnet.zip.\n"
    },
    {
     "output_type": "error",
     "ename": "ModuleNotFoundError",
     "evalue": "No module named 'spacy'",
     "traceback": [
      "\u001b[1;31m---------------------------------------------------------------------------\u001b[0m",
      "\u001b[1;31mModuleNotFoundError\u001b[0m                       Traceback (most recent call last)",
      "\u001b[1;32m<ipython-input-10-82a518ad01c4>\u001b[0m in \u001b[0;36m<module>\u001b[1;34m\u001b[0m\n\u001b[0;32m      6\u001b[0m \u001b[1;32mfrom\u001b[0m \u001b[0mnltk\u001b[0m\u001b[1;33m.\u001b[0m\u001b[0mstem\u001b[0m \u001b[1;32mimport\u001b[0m \u001b[0mPorterStemmer\u001b[0m\u001b[1;33m\u001b[0m\u001b[1;33m\u001b[0m\u001b[0m\n\u001b[0;32m      7\u001b[0m \u001b[1;32mfrom\u001b[0m \u001b[0mnltk\u001b[0m\u001b[1;33m.\u001b[0m\u001b[0mstem\u001b[0m \u001b[1;32mimport\u001b[0m \u001b[0mWordNetLemmatizer\u001b[0m\u001b[1;33m\u001b[0m\u001b[1;33m\u001b[0m\u001b[0m\n\u001b[1;32m----> 8\u001b[1;33m \u001b[1;32mimport\u001b[0m \u001b[0mspacy\u001b[0m\u001b[1;33m\u001b[0m\u001b[1;33m\u001b[0m\u001b[0m\n\u001b[0m\u001b[0;32m      9\u001b[0m \u001b[1;33m\u001b[0m\u001b[0m\n\u001b[0;32m     10\u001b[0m \u001b[1;31m# nlp = spacy.load('en_core_web_sm')\u001b[0m\u001b[1;33m\u001b[0m\u001b[1;33m\u001b[0m\u001b[1;33m\u001b[0m\u001b[0m\n",
      "\u001b[1;31mModuleNotFoundError\u001b[0m: No module named 'spacy'"
     ]
    }
   ],
   "source": [
    "import nltk\n",
    "nltk.download('punkt')\n",
    "nltk.download('stopwords')\n",
    "nltk.download('wordnet')\n",
    "\n",
    "from nltk.stem import PorterStemmer \n",
    "from nltk.stem import WordNetLemmatizer \n",
    "import spacy\n",
    "\n",
    "nlp = spacy.load('en_core_web_sm')\n"
   ]
  },
  {
   "cell_type": "code",
   "execution_count": 8,
   "metadata": {},
   "outputs": [],
   "source": [
    "output_folder = 'C:\\\\Projects\\\\NeptuneX\\\\output\\\\{}'\n",
    "load_file = glob.glob(output_folder.format('*foreign*'))\n",
    "load_file\n",
    "df_test = pd.read_csv(load_file[0])\n"
   ]
  },
  {
   "cell_type": "code",
   "execution_count": 9,
   "metadata": {},
   "outputs": [
    {
     "output_type": "execute_result",
     "data": {
      "text/plain": "    Unnamed: 0  \\\n0           55   \n1           64   \n2           66   \n3           84   \n4          183   \n..         ...   \n78        2626   \n79        2992   \n80        2993   \n81        3068   \n82        3071   \n\n                                                           Foreign_Details  \n0   08/11/13        155.00    AUD FOREIGN CURRENCY FEE $ 4.44 NZD INCLUDED  \n1   08/24/13         25.80    MYR FOREIGN CURRENCY FEE $ 0.24 NZD INCLUDED  \n2   08/30/13        251.00    CNY FOREIGN CURRENCY FEE $ 1.33 NZD INCLUDED  \n3   09/12/13         10.00    USD FOREIGN CURRENCY FEE $ 0.31 NZD INCLUDED  \n4   01/13/14          1.00    USD FOREIGN CURRENCY FEE $ 0.03 NZD INCLUDED  \n..                                                                     ...  \n78  06/10/19        239.88    USD FOREIGN CURRENCY FEE $ 9.04 NZD INCLUDED  \n79  02/08/20         34.00    AUD FOREIGN CURRENCY FEE $ 0.49 NZD INCLUDED  \n80  02/08/20        128.00    AUD FOREIGN CURRENCY FEE $ 1.85 NZD INCLUDED  \n81  06/10/20        239.88    USD FOREIGN CURRENCY FEE $ 5.16 NZD INCLUDED  \n82  06/14/20        239.88    USD FOREIGN CURRENCY FEE $ 5.24 NZD INCLUDED  \n\n[83 rows x 2 columns]",
      "text/html": "<div>\n<style scoped>\n    .dataframe tbody tr th:only-of-type {\n        vertical-align: middle;\n    }\n\n    .dataframe tbody tr th {\n        vertical-align: top;\n    }\n\n    .dataframe thead th {\n        text-align: right;\n    }\n</style>\n<table border=\"1\" class=\"dataframe\">\n  <thead>\n    <tr style=\"text-align: right;\">\n      <th></th>\n      <th>Unnamed: 0</th>\n      <th>Foreign_Details</th>\n    </tr>\n  </thead>\n  <tbody>\n    <tr>\n      <th>0</th>\n      <td>55</td>\n      <td>08/11/13        155.00    AUD FOREIGN CURRENCY FEE $ 4.44 NZD INCLUDED</td>\n    </tr>\n    <tr>\n      <th>1</th>\n      <td>64</td>\n      <td>08/24/13         25.80    MYR FOREIGN CURRENCY FEE $ 0.24 NZD INCLUDED</td>\n    </tr>\n    <tr>\n      <th>2</th>\n      <td>66</td>\n      <td>08/30/13        251.00    CNY FOREIGN CURRENCY FEE $ 1.33 NZD INCLUDED</td>\n    </tr>\n    <tr>\n      <th>3</th>\n      <td>84</td>\n      <td>09/12/13         10.00    USD FOREIGN CURRENCY FEE $ 0.31 NZD INCLUDED</td>\n    </tr>\n    <tr>\n      <th>4</th>\n      <td>183</td>\n      <td>01/13/14          1.00    USD FOREIGN CURRENCY FEE $ 0.03 NZD INCLUDED</td>\n    </tr>\n    <tr>\n      <th>...</th>\n      <td>...</td>\n      <td>...</td>\n    </tr>\n    <tr>\n      <th>78</th>\n      <td>2626</td>\n      <td>06/10/19        239.88    USD FOREIGN CURRENCY FEE $ 9.04 NZD INCLUDED</td>\n    </tr>\n    <tr>\n      <th>79</th>\n      <td>2992</td>\n      <td>02/08/20         34.00    AUD FOREIGN CURRENCY FEE $ 0.49 NZD INCLUDED</td>\n    </tr>\n    <tr>\n      <th>80</th>\n      <td>2993</td>\n      <td>02/08/20        128.00    AUD FOREIGN CURRENCY FEE $ 1.85 NZD INCLUDED</td>\n    </tr>\n    <tr>\n      <th>81</th>\n      <td>3068</td>\n      <td>06/10/20        239.88    USD FOREIGN CURRENCY FEE $ 5.16 NZD INCLUDED</td>\n    </tr>\n    <tr>\n      <th>82</th>\n      <td>3071</td>\n      <td>06/14/20        239.88    USD FOREIGN CURRENCY FEE $ 5.24 NZD INCLUDED</td>\n    </tr>\n  </tbody>\n</table>\n<p>83 rows × 2 columns</p>\n</div>"
     },
     "metadata": {},
     "execution_count": 9
    }
   ],
   "source": [
    "df_test"
   ]
  },
  {
   "cell_type": "code",
   "execution_count": null,
   "metadata": {},
   "outputs": [],
   "source": []
  }
 ],
 "metadata": {
  "language_info": {
   "codemirror_mode": {
    "name": "ipython",
    "version": 3
   },
   "file_extension": ".py",
   "mimetype": "text/x-python",
   "name": "python",
   "nbconvert_exporter": "python",
   "pygments_lexer": "ipython3",
   "version": "3.8.3-final"
  },
  "orig_nbformat": 2,
  "kernelspec": {
   "name": "python38332bit522d691a44644f5f97199e3e55dc0f02",
   "display_name": "Python 3.8.3 32-bit"
  }
 },
 "nbformat": 4,
 "nbformat_minor": 2
}