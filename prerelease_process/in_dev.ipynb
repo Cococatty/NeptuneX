{
 "cells": [
  {
   "cell_type": "code",
   "execution_count": null,
   "metadata": {
    "tags": []
   },
   "outputs": [],
   "source": [
    "from project_imports import *\n",
    "import importlib\n",
    "# project_imports = importlib.reload(project_imports)"
   ]
  },
  {
   "cell_type": "code",
   "execution_count": null,
   "metadata": {
    "tags": []
   },
   "outputs": [],
   "source": [
    "file_name = os.path.join( init_metadata.file_path_output, '*foreign*')\n",
    "load_file = glob.glob(file_name)\n",
    "load_file\n",
    "df_test = pd.read_csv(load_file[0])\n",
    "df_test\n"
   ]
  },
  {
   "cell_type": "markdown",
   "metadata": {},
   "source": [
    "# If the item has its own free spirit"
   ]
  },
  {
   "cell_type": "code",
   "execution_count": null,
   "metadata": {},
   "outputs": [],
   "source": [
    "# to get the amount\n",
    "def ner_pos_tag_a_col(col_detail):\n",
    "    sent = nltk.word_tokenize(col_detail)\n",
    "    sent = nltk.pos_tag(sent)\n",
    "    return sent\n",
    "\n",
    "ner_foreign_details = df_test.apply(lambda x: ner_pos_tag_a_col(x[1]), axis=1)\n",
    "ner_foreign_details"
   ]
  },
  {
   "cell_type": "code",
   "execution_count": null,
   "metadata": {},
   "outputs": [],
   "source": [
    "type(ner_foreign_details)\n",
    "ner_foreign_details.shape\n"
   ]
  },
  {
   "cell_type": "code",
   "execution_count": null,
   "metadata": {},
   "outputs": [],
   "source": [
    "test_entry_ner = ner_foreign_details[0]\n",
    "test_entry_str = df_test.iloc[1, 1]\n",
    "test_entry_str\n",
    "test_entry_ner"
   ]
  },
  {
   "cell_type": "code",
   "execution_count": null,
   "metadata": {},
   "outputs": [],
   "source": [
    "# Get date of foreign transaction occurs\n",
    "foreign_date = test_entry_str[0:8]\n",
    "\n"
   ]
  },
  {
   "cell_type": "markdown",
   "metadata": {},
   "source": [
    "# If the item includes processing fee"
   ]
  },
  {
   "cell_type": "code",
   "execution_count": null,
   "metadata": {
    "tags": []
   },
   "outputs": [],
   "source": [
    "# ner_foreign_details[0][0][0]\n",
    "# result = re.match(r'\\d/\\d/\\d', test_entry_str)\n",
    "result = re.search(r'(?P<foreign_date>\\d+/\\d+/\\d+)\\s+(?P<foreign_amt>\\d+.\\d+)\\s+(?P<foreign_currency>\\w+)\\s+(?P<foreign_process>[\\w\\s]+)\\$\\s+(?P<fee_amt>\\d+.\\d+)\\s+(?P<foreign_process_currency>\\w+)', test_entry_str)\n",
    "\n",
    "# print(result)\n",
    "# type(result)\n",
    "result.group('foreign_process_currency')\n",
    "# result"
   ]
  },
  {
   "cell_type": "code",
   "execution_count": null,
   "metadata": {},
   "outputs": [],
   "source": []
  },
  {
   "cell_type": "code",
   "execution_count": null,
   "metadata": {
    "tags": []
   },
   "outputs": [],
   "source": [
    "type(s_result)\n",
    "s_result\n"
   ]
  },
  {
   "cell_type": "code",
   "execution_count": null,
   "metadata": {
    "tags": []
   },
   "outputs": [],
   "source": [
    "break_foreign_details = lambda x: x.str.extract(r'(?P<foreign_date>\\d+/\\d+/\\d+)\\s+(?P<foreign_amt>\\d+.\\d+)\\s+(?P<foreign_currency>\\w+)\\s+(?P<foreign_process>[\\w\\s]+)\\$\\s+(?P<foreign_fee>\\d+.\\d+)\\s+(?P<foreign_process_currency>\\w+)')\n",
    "\n",
    "\n",
    "# def break_foreign_details(detail):\n",
    "#  return detail.str.extract(r'(?P<foreign_date>\\d+/\\d+/\\d+)\\s+(?P<foreign_amt>\\d+.\\d+)\\s+(?P<foreign_currency>\\w+)\\s+(?P<foreign_process>[\\w\\s]+)\\$\\s+(?P<roeign_fee>\\d+.\\d+)\\s+(?P<foreign_process_currency>\\w+)')\n",
    "\n",
    "df_foreign_details = df_test.apply(lambda x: break_foreign_details(df_test.loc[:,'Foreign_Details']), axis=1)\n"
   ]
  },
  {
   "cell_type": "code",
   "execution_count": 118,
   "metadata": {},
   "outputs": [
    {
     "output_type": "execute_result",
     "data": {
      "text/plain": "Index(['id ', 'Foreign_Details'], dtype='object')"
     },
     "metadata": {},
     "execution_count": 118
    }
   ],
   "source": [
    "# df_test.loc[:,'foreign_details']\n",
    "df_test.columns"
   ]
  },
  {
   "cell_type": "code",
   "execution_count": null,
   "metadata": {},
   "outputs": [],
   "source": []
  }
 ],
 "metadata": {
  "language_info": {
   "codemirror_mode": {
    "name": "ipython",
    "version": 3
   },
   "file_extension": ".py",
   "mimetype": "text/x-python",
   "name": "python",
   "nbconvert_exporter": "python",
   "pygments_lexer": "ipython3",
   "version": "3.8.3-final"
  },
  "orig_nbformat": 2,
  "kernelspec": {
   "name": ".venv_neptunex",
   "display_name": "Python (.venv_neptunex)"
  }
 },
 "nbformat": 4,
 "nbformat_minor": 2
}