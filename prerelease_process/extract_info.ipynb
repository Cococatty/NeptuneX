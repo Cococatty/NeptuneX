{
 "cells": [
  {
   "cell_type": "code",
   "execution_count": null,
   "metadata": {},
   "outputs": [],
   "source": [
    "\n",
    "from flashgeotext.geotext import GeoText\n",
    "geotext = GeoText() # use_demo_data=True\n",
    "\n",
    "input_field = \"Christchurch New Zealand ATM WBC\"\n",
    "geo_result = geotext.extract(input_text=input_text)\n",
    "keys_city = list(geo_result.get('cities').keys())\n",
    "keys_country = list(geo_result.get('countries').keys())"
   ]
  }
 ],
 "metadata": {
  "language_info": {
   "codemirror_mode": {
    "name": "ipython",
    "version": 3
   },
   "file_extension": ".py",
   "mimetype": "text/x-python",
   "name": "python",
   "nbconvert_exporter": "python",
   "pygments_lexer": "ipython3",
   "version": 3
  },
  "orig_nbformat": 2
 },
 "nbformat": 4,
 "nbformat_minor": 2
}